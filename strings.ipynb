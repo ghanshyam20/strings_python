{
 "cells": [
  {
   "cell_type": "code",
   "execution_count": 1,
   "id": "c30b8aac",
   "metadata": {},
   "outputs": [
    {
     "name": "stdout",
     "output_type": "stream",
     "text": [
      "True\n"
     ]
    }
   ],
   "source": [
    "txt = \"The best things in life are free!\"\n",
    "print(\"free\" in txt)"
   ]
  },
  {
   "cell_type": "code",
   "execution_count": 2,
   "id": "93327932",
   "metadata": {},
   "outputs": [
    {
     "name": "stdout",
     "output_type": "stream",
     "text": [
      "False\n"
     ]
    }
   ],
   "source": [
    "txt = \"The best things in life are free!\"\n",
    "print(\"Expensive\" in txt)"
   ]
  },
  {
   "cell_type": "code",
   "execution_count": 5,
   "id": "8f136def",
   "metadata": {},
   "outputs": [
    {
     "name": "stdout",
     "output_type": "stream",
     "text": [
      "No,''\n"
     ]
    }
   ],
   "source": [
    "txt = \"The best things in life are free!\"\n",
    "if \"expensive\" in txt:\n",
    "  print(\"Yes, 'free' is present.\")\n",
    "else:\n",
    "    print(\"No,''\")\n"
   ]
  },
  {
   "cell_type": "code",
   "execution_count": 6,
   "id": "8242e324",
   "metadata": {},
   "outputs": [
    {
     "name": "stdout",
     "output_type": "stream",
     "text": [
      "True\n"
     ]
    }
   ],
   "source": [
    "txt = \"The best things in life are free!\"\n",
    "print(\"expensive\" not in txt)\n"
   ]
  },
  {
   "cell_type": "code",
   "execution_count": 7,
   "id": "5db41692",
   "metadata": {},
   "outputs": [
    {
     "name": "stdout",
     "output_type": "stream",
     "text": [
      "llo\n"
     ]
    }
   ],
   "source": [
    "b = \"Hello, World!\"\n",
    "print(b[2:5])\n"
   ]
  },
  {
   "cell_type": "code",
   "execution_count": 8,
   "id": "3f0c05ad",
   "metadata": {},
   "outputs": [
    {
     "name": "stdout",
     "output_type": "stream",
     "text": [
      "Hello\n"
     ]
    }
   ],
   "source": [
    "b = \"Hello, World!\"\n",
    "print(b[:5])"
   ]
  },
  {
   "cell_type": "code",
   "execution_count": 9,
   "id": "e0566811",
   "metadata": {},
   "outputs": [
    {
     "name": "stdout",
     "output_type": "stream",
     "text": [
      "llo, World!\n"
     ]
    }
   ],
   "source": [
    "b = \"Hello, World!\"\n",
    "print(b[2:])"
   ]
  },
  {
   "cell_type": "code",
   "execution_count": 10,
   "id": "0a23b18c",
   "metadata": {},
   "outputs": [
    {
     "name": "stdout",
     "output_type": "stream",
     "text": [
      "orl\n"
     ]
    }
   ],
   "source": [
    "b = \"Hello, World!\"\n",
    "print(b[-5:-2])\n"
   ]
  },
  {
   "cell_type": "code",
   "execution_count": 11,
   "id": "912fe3af",
   "metadata": {},
   "outputs": [
    {
     "name": "stdout",
     "output_type": "stream",
     "text": [
      "HELLO, WORLD!\n"
     ]
    }
   ],
   "source": [
    "a = \"Hello, World!\"\n",
    "print(a.upper())\n"
   ]
  },
  {
   "cell_type": "code",
   "execution_count": 12,
   "id": "fa8ae61e",
   "metadata": {},
   "outputs": [
    {
     "name": "stdout",
     "output_type": "stream",
     "text": [
      "hello world\n"
     ]
    }
   ],
   "source": [
    "a=\"HELLO WORLD\"\n",
    "print(a.lower())"
   ]
  },
  {
   "cell_type": "code",
   "execution_count": 13,
   "id": "86318f5c",
   "metadata": {},
   "outputs": [
    {
     "name": "stdout",
     "output_type": "stream",
     "text": [
      "{'Alan': 4, 'Bill': 4, 'cory': 4, 'Ram': 3, 'Shyam': 5, 'Gita': 4}\n"
     ]
    }
   ],
   "source": [
    "students=['Alan','Bill','cory','Ram','Shyam','Gita']\n",
    "#output={'Alan':4,'Bill':4,'cory':4,'Ram':3,'Shyam':5,'Gita':4}\n",
    "\n",
    "output={}\n",
    "for student in students:\n",
    "    output.update({student:len(student)})\n",
    "print(output)"
   ]
  },
  {
   "cell_type": "code",
   "execution_count": 14,
   "id": "2181665f",
   "metadata": {},
   "outputs": [
    {
     "data": {
      "text/plain": [
       "[0, 1, 2, 3, 4, 5, 6, 7, 8, 9]"
      ]
     },
     "execution_count": 14,
     "metadata": {},
     "output_type": "execute_result"
    }
   ],
   "source": [
    "list(range(0,10))"
   ]
  },
  {
   "cell_type": "code",
   "execution_count": 15,
   "id": "f276c190",
   "metadata": {},
   "outputs": [
    {
     "data": {
      "text/plain": [
       "[0, 1, 2, 3, 4, 5, 6, 7, 8, 9]"
      ]
     },
     "execution_count": 15,
     "metadata": {},
     "output_type": "execute_result"
    }
   ],
   "source": [
    "list(range(0,10,1))\n"
   ]
  },
  {
   "cell_type": "code",
   "execution_count": 17,
   "id": "9f6ddcf3",
   "metadata": {},
   "outputs": [
    {
     "data": {
      "text/plain": [
       "[0, 4, 8]"
      ]
     },
     "execution_count": 17,
     "metadata": {},
     "output_type": "execute_result"
    }
   ],
   "source": [
    "list(range(0,10,4)\n",
    "    )"
   ]
  },
  {
   "cell_type": "code",
   "execution_count": 20,
   "id": "82b4def4",
   "metadata": {},
   "outputs": [
    {
     "data": {
      "text/plain": [
       "[10, 9, 8, 7, 6, 5, 4, 3, 2, 1, 0]"
      ]
     },
     "execution_count": 20,
     "metadata": {},
     "output_type": "execute_result"
    }
   ],
   "source": [
    "list(range(10,-1,-1))#start,stop,step"
   ]
  },
  {
   "cell_type": "code",
   "execution_count": 24,
   "id": "0c4284bc",
   "metadata": {},
   "outputs": [
    {
     "ename": "NameError",
     "evalue": "name 'studdents' is not defined",
     "output_type": "error",
     "traceback": [
      "\u001b[1;31m---------------------------------------------------------------------------\u001b[0m",
      "\u001b[1;31mNameError\u001b[0m                                 Traceback (most recent call last)",
      "Cell \u001b[1;32mIn[24], line 2\u001b[0m\n\u001b[0;32m      1\u001b[0m students\u001b[38;5;241m=\u001b[39m[\u001b[38;5;124m'\u001b[39m\u001b[38;5;124mAlan\u001b[39m\u001b[38;5;124m'\u001b[39m,\u001b[38;5;124m'\u001b[39m\u001b[38;5;124mBill\u001b[39m\u001b[38;5;124m'\u001b[39m,\u001b[38;5;124m'\u001b[39m\u001b[38;5;124mcory\u001b[39m\u001b[38;5;124m'\u001b[39m,\u001b[38;5;124m'\u001b[39m\u001b[38;5;124mRam\u001b[39m\u001b[38;5;124m'\u001b[39m,\u001b[38;5;124m'\u001b[39m\u001b[38;5;124mShyam\u001b[39m\u001b[38;5;124m'\u001b[39m,\u001b[38;5;124m'\u001b[39m\u001b[38;5;124mGita\u001b[39m\u001b[38;5;124m'\u001b[39m]\n\u001b[1;32m----> 2\u001b[0m \u001b[38;5;28;01mfor\u001b[39;00m i \u001b[38;5;129;01min\u001b[39;00m \u001b[43mstuddents\u001b[49m:\n\u001b[0;32m      3\u001b[0m     \u001b[38;5;28mprint\u001b[39m(student(\u001b[38;5;28mrange\u001b[39m(\u001b[38;5;241m5\u001b[39m,\u001b[38;5;241m0\u001b[39m,\u001b[38;5;241m1\u001b[39m)))\n",
      "\u001b[1;31mNameError\u001b[0m: name 'studdents' is not defined"
     ]
    }
   ],
   "source": [
    "students=['Alan','Bill','cory','Ram','Shyam','Gita']\n",
    "for i in studdents:\n",
    "    print(student(range(5,0,1)))"
   ]
  },
  {
   "cell_type": "code",
   "execution_count": 27,
   "id": "58989d8d",
   "metadata": {},
   "outputs": [
    {
     "name": "stdout",
     "output_type": "stream",
     "text": [
      "5 Gita\n",
      "4 Shyam\n",
      "3 Ram\n",
      "2 cory\n",
      "1 Bill\n",
      "0 Alan\n"
     ]
    }
   ],
   "source": [
    "students=['Alan','Bill','cory','Ram','Shyam','Gita']\n",
    "for i in range(len(students)-1,-1,-1):\n",
    "    print(i,students[i])"
   ]
  },
  {
   "cell_type": "code",
   "execution_count": 28,
   "id": "33c70539",
   "metadata": {},
   "outputs": [
    {
     "name": "stdout",
     "output_type": "stream",
     "text": [
      "5 Gita\n"
     ]
    },
    {
     "ename": "AttributeError",
     "evalue": "'list' object has no attribute 'update'",
     "output_type": "error",
     "traceback": [
      "\u001b[1;31m---------------------------------------------------------------------------\u001b[0m",
      "\u001b[1;31mAttributeError\u001b[0m                            Traceback (most recent call last)",
      "Cell \u001b[1;32mIn[28], line 4\u001b[0m\n\u001b[0;32m      2\u001b[0m \u001b[38;5;28;01mfor\u001b[39;00m i \u001b[38;5;129;01min\u001b[39;00m \u001b[38;5;28mrange\u001b[39m(\u001b[38;5;28mlen\u001b[39m(students)\u001b[38;5;241m-\u001b[39m\u001b[38;5;241m1\u001b[39m,\u001b[38;5;241m-\u001b[39m\u001b[38;5;241m1\u001b[39m,\u001b[38;5;241m-\u001b[39m\u001b[38;5;241m1\u001b[39m):\n\u001b[0;32m      3\u001b[0m     \u001b[38;5;28mprint\u001b[39m(i,students[i])\n\u001b[1;32m----> 4\u001b[0m     \u001b[43mstudents\u001b[49m\u001b[38;5;241;43m.\u001b[39;49m\u001b[43mupdate\u001b[49m\n",
      "\u001b[1;31mAttributeError\u001b[0m: 'list' object has no attribute 'update'"
     ]
    }
   ],
   "source": [
    "students=['Alan','Bill','cory','Ram','Shyam','Gita']\n",
    "for i in range(len(students)-1,-1,-1):\n",
    "    print(i,students[i])\n",
    "    "
   ]
  },
  {
   "cell_type": "code",
   "execution_count": 29,
   "id": "72602a9c",
   "metadata": {},
   "outputs": [
    {
     "ename": "TypeError",
     "evalue": "unsupported operand type(s) for *: 'dict' and 'int'",
     "output_type": "error",
     "traceback": [
      "\u001b[1;31m---------------------------------------------------------------------------\u001b[0m",
      "\u001b[1;31mTypeError\u001b[0m                                 Traceback (most recent call last)",
      "Cell \u001b[1;32mIn[29], line 4\u001b[0m\n\u001b[0;32m      2\u001b[0m \u001b[38;5;66;03m#nep_price={'milk':268.6299,'bread':344.,'butter':344.}\u001b[39;00m\n\u001b[0;32m      3\u001b[0m rate\u001b[38;5;241m=\u001b[39m\u001b[38;5;241m135\u001b[39m\n\u001b[1;32m----> 4\u001b[0m output\u001b[38;5;241m=\u001b[39m{\u001b[43mus_price\u001b[49m\u001b[38;5;241;43m*\u001b[39;49m\u001b[43mrate\u001b[49m}\n\u001b[0;32m      5\u001b[0m \u001b[38;5;28mprint\u001b[39m(output)\n",
      "\u001b[1;31mTypeError\u001b[0m: unsupported operand type(s) for *: 'dict' and 'int'"
     ]
    }
   ],
   "source": [
    "us_price={'milk':2.03,'bread':2.6,'butter':2.6}\n",
    "#nep_price={'milk':268.6299,'bread':344.,'butter':344.}\n",
    "rate=135\n",
    "output={us_price*rate}\n",
    "print(output)"
   ]
  },
  {
   "cell_type": "code",
   "execution_count": 30,
   "id": "46b8974a",
   "metadata": {},
   "outputs": [
    {
     "name": "stdout",
     "output_type": "stream",
     "text": [
      "{'milk': 263.9, 'bread': 338.0, 'butter': 338.0}\n"
     ]
    }
   ],
   "source": [
    "us_price={'milk':2.03,'bread':2.6,'butter':2.6}\n",
    "#nep_price={'milk':268.6299,'bread':344.,'butter':344.}\n",
    "nep_price={}\n",
    "for k,v in us_price.items():\n",
    "    nep_price.update({k:v*130})\n",
    "print(nep_price)"
   ]
  },
  {
   "cell_type": "code",
   "execution_count": 31,
   "id": "c760f215",
   "metadata": {},
   "outputs": [
    {
     "ename": "SyntaxError",
     "evalue": "invalid syntax (3584499812.py, line 5)",
     "output_type": "error",
     "traceback": [
      "\u001b[1;36m  Cell \u001b[1;32mIn[31], line 5\u001b[1;36m\u001b[0m\n\u001b[1;33m    nep_price.update({k:v*130+13%*v*130})\u001b[0m\n\u001b[1;37m                                 ^\u001b[0m\n\u001b[1;31mSyntaxError\u001b[0m\u001b[1;31m:\u001b[0m invalid syntax\n"
     ]
    }
   ],
   "source": [
    "us_price={'milk':2.03,'bread':2.6,'butter':2.6}\n",
    "#nep_price={'milk':268.6299,'bread':344.,'butter':344.}\n",
    "nep_price={}\n",
    "for k,v in us_price.items():\n",
    "    nep_price.update({k:v*130+13%*v*130})\n",
    "print(nep_price)"
   ]
  },
  {
   "cell_type": "code",
   "execution_count": 33,
   "id": "b5bfc259",
   "metadata": {},
   "outputs": [
    {
     "name": "stdout",
     "output_type": "stream",
     "text": [
      "{'milk': 298.207, 'bread': 381.94, 'butter': 381.94}\n"
     ]
    }
   ],
   "source": [
    "us_price={'milk':2.03,'bread':2.6,'butter':2.6}\n",
    "#nep_price={'milk':268.6299,'bread':344.,'butter':344.}\n",
    "nep_price={}\n",
    "for k,v in us_price.items():\n",
    "    nep_price.update({k:v*130+(v*130)*13/100})\n",
    "print(nep_price)"
   ]
  },
  {
   "cell_type": "code",
   "execution_count": 34,
   "id": "88f07220",
   "metadata": {},
   "outputs": [
    {
     "name": "stdout",
     "output_type": "stream",
     "text": [
      "{'milk': 298.20699999999994, 'bread': 381.93999999999994, 'butter': 381.93999999999994, 'meat': 734.4999999999999}\n"
     ]
    }
   ],
   "source": [
    "us_price={'milk':2.03,'bread':2.6,'butter':2.6,'meat':5,'mobile':500,'televison':340}\n",
    "nep_price={}\n",
    "for k,v in us_price.items():\n",
    "    if v<=5:\n",
    "        nep_price.update({k:v*130*1.13})\n",
    "print(nep_price)\n"
   ]
  },
  {
   "cell_type": "code",
   "execution_count": 35,
   "id": "89a74825",
   "metadata": {},
   "outputs": [
    {
     "name": "stdout",
     "output_type": "stream",
     "text": [
      "{'milk': 298.20699999999994, 'bread': 381.93999999999994, 'butter': 381.93999999999994, 'meat': 734.4999999999999, 'mobile': 78000.0, 'televison': 53040.0}\n"
     ]
    }
   ],
   "source": [
    "us_price={'milk':2.03,'bread':2.6,'butter':2.6,'meat':5,'mobile':500,'televison':340}\n",
    "nep_price={}\n",
    "for k,v in us_price.items():\n",
    "    if v<=5:\n",
    "        nep_price.update({k:v*130*1.13})\n",
    "    else:\n",
    "        nep_price.update({k:v*130*1.20})\n",
    "print(nep_price)\n",
    "    "
   ]
  },
  {
   "cell_type": "code",
   "execution_count": 37,
   "id": "9fb4cebc",
   "metadata": {},
   "outputs": [
    {
     "name": "stdout",
     "output_type": "stream",
     "text": [
      "{'milk': 298.20699999999994, 'bread': 381.93999999999994, 'butter': 381.93999999999994, 'meat': 734.4999999999999, 'mobile': 78000.0, 'televison': 53040.0}\n"
     ]
    },
    {
     "ename": "TypeError",
     "evalue": "unsupported operand type(s) for +=: 'int' and 'str'",
     "output_type": "error",
     "traceback": [
      "\u001b[1;31m---------------------------------------------------------------------------\u001b[0m",
      "\u001b[1;31mTypeError\u001b[0m                                 Traceback (most recent call last)",
      "Cell \u001b[1;32mIn[37], line 11\u001b[0m\n\u001b[0;32m      9\u001b[0m total\u001b[38;5;241m=\u001b[39m\u001b[38;5;241m0\u001b[39m\n\u001b[0;32m     10\u001b[0m \u001b[38;5;28;01mfor\u001b[39;00m v \u001b[38;5;129;01min\u001b[39;00m nep_price:\n\u001b[1;32m---> 11\u001b[0m     total\u001b[38;5;241m+\u001b[39m\u001b[38;5;241m=\u001b[39mv\n\u001b[0;32m     12\u001b[0m \u001b[38;5;28mprint\u001b[39m(v)\n",
      "\u001b[1;31mTypeError\u001b[0m: unsupported operand type(s) for +=: 'int' and 'str'"
     ]
    }
   ],
   "source": [
    "us_price={'milk':2.03,'bread':2.6,'butter':2.6,'meat':5,'mobile':500,'televison':340}\n",
    "nep_price={}\n",
    "for k,v in us_price.items():\n",
    "    if v<=5:\n",
    "        nep_price.update({k:v*130*1.13})\n",
    "    else:\n",
    "        nep_price.update({k:v*130*1.20})\n",
    "print(nep_price)\n",
    "total=0\n",
    "for v in nep_price:\n",
    "    total+=v\n",
    "print(v)"
   ]
  },
  {
   "cell_type": "code",
   "execution_count": 38,
   "id": "8348b947",
   "metadata": {},
   "outputs": [],
   "source": [
    "us_price={'milk':2.03,'bread':2.6,'butter':2.6,'meat':5,'mobile':500,'televison':340}\n",
    "nep_price={}\n",
    "total_us_price=total_nep_price=0\n",
    "for k,v in us_price.items():\n",
    "    total_us_price +=v\n",
    "    if v<=5:\n",
    "        nep_price.update({k:v*130*1.13})\n",
    "        total_nep_price+=v*130*1.12\n",
    "        \n"
   ]
  },
  {
   "cell_type": "code",
   "execution_count": 39,
   "id": "ceb2db2c",
   "metadata": {},
   "outputs": [],
   "source": [
    "numbers=[1,2,3,4,5,6,7,8,9,10,11,12]\n",
    "for i in numbers:\n",
    "    if i==6:\n",
    "        pass"
   ]
  },
  {
   "cell_type": "code",
   "execution_count": 40,
   "id": "3a67d102",
   "metadata": {},
   "outputs": [],
   "source": [
    "def hello():#paxi ko laagi kei garna xa vaney \n",
    "    pass"
   ]
  },
  {
   "cell_type": "code",
   "execution_count": 44,
   "id": "95f3b50b",
   "metadata": {},
   "outputs": [
    {
     "name": "stdout",
     "output_type": "stream",
     "text": [
      "72\n"
     ]
    }
   ],
   "source": [
    "numbers=[1,2,3,4,5,6,7,8,9,10,11,12]\n",
    "sum=0\n",
    "for i in numbers:\n",
    "    sum +=i\n",
    "    \n",
    "        \n",
    "print(sum-6)\n"
   ]
  },
  {
   "cell_type": "code",
   "execution_count": 49,
   "id": "dcfc8367",
   "metadata": {},
   "outputs": [
    {
     "name": "stdout",
     "output_type": "stream",
     "text": [
      "72\n"
     ]
    }
   ],
   "source": [
    "numbers=[1,2,3,4,5,6,7,8,9,10,11,12]\n",
    "sum= 0\n",
    "for i in numbers:\n",
    "    if i !=6:\n",
    "        sum +=i\n",
    "print(sum)\n",
    "    "
   ]
  },
  {
   "cell_type": "code",
   "execution_count": 51,
   "id": "d16814d5",
   "metadata": {},
   "outputs": [
    {
     "name": "stdout",
     "output_type": "stream",
     "text": [
      "12\n"
     ]
    }
   ],
   "source": [
    "numbers=[1,2,3,4,5,6,7,8,9,10,11,12]\n",
    "sum=0\n",
    "for i in numbers:\n",
    "    if i !=6 or i!=7 or i!=8:\n",
    "        sum+=i\n",
    "   \n",
    "print(i)\n"
   ]
  },
  {
   "cell_type": "code",
   "execution_count": 52,
   "id": "94f305e8",
   "metadata": {},
   "outputs": [
    {
     "name": "stdout",
     "output_type": "stream",
     "text": [
      "57\n"
     ]
    }
   ],
   "source": [
    "numbers=[1,2,3,4,5,6,7,8,9,10,11,12]\n",
    "sum =0\n",
    "for i in numbers:\n",
    "    if i in[6,7,8]:\n",
    "        continue #skips the current loop\n",
    "    sum+=i\n",
    "print(sum)\n"
   ]
  },
  {
   "cell_type": "code",
   "execution_count": 53,
   "id": "83536dd7",
   "metadata": {},
   "outputs": [
    {
     "name": "stdout",
     "output_type": "stream",
     "text": [
      "35\n"
     ]
    }
   ],
   "source": [
    "numbers=[11,2,13,4,5,6,7,8,9,10,11,12]\n",
    "sum=0\n",
    "for i in numbers:\n",
    "    if i in [6]:\n",
    "        break\n",
    "    sum+=i\n",
    "print(sum)\n",
    "\n"
   ]
  },
  {
   "cell_type": "code",
   "execution_count": 56,
   "id": "4cf26ebb",
   "metadata": {},
   "outputs": [
    {
     "ename": "SyntaxError",
     "evalue": "incomplete input (3729690784.py, line 3)",
     "output_type": "error",
     "traceback": [
      "\u001b[1;36m  Cell \u001b[1;32mIn[56], line 3\u001b[1;36m\u001b[0m\n\u001b[1;33m    print(\"ram eats\"+foods[0]\u001b[0m\n\u001b[1;37m                             ^\u001b[0m\n\u001b[1;31mSyntaxError\u001b[0m\u001b[1;31m:\u001b[0m incomplete input\n"
     ]
    }
   ],
   "source": [
    "names=['ram','shyam','gita','sita']\n",
    "foods=['momo','chawmein','thukpa']\n",
    "print(\"ram eats\"+foods[0]"
   ]
  },
  {
   "cell_type": "code",
   "execution_count": 58,
   "id": "7d698911",
   "metadata": {},
   "outputs": [
    {
     "name": "stdout",
     "output_type": "stream",
     "text": [
      "ram eats momo\n",
      "ram eats chawmein\n",
      "ram eats thukpa\n",
      "shyam eats momo\n",
      "shyam eats chawmein\n",
      "shyam eats thukpa\n",
      "gita eats momo\n",
      "gita eats chawmein\n",
      "gita eats thukpa\n",
      "sita eats momo\n",
      "sita eats chawmein\n",
      "sita eats thukpa\n"
     ]
    }
   ],
   "source": [
    "names=['ram','shyam','gita','sita']\n",
    "foods=['momo','chawmein','thukpa']\n",
    "for name in names:\n",
    "    for food in foods:#nested for loop\n",
    "        print(f\"{name} eats {food}\")"
   ]
  },
  {
   "cell_type": "code",
   "execution_count": null,
   "id": "6c371ce0",
   "metadata": {},
   "outputs": [],
   "source": []
  }
 ],
 "metadata": {
  "kernelspec": {
   "display_name": "Python 3 (ipykernel)",
   "language": "python",
   "name": "python3"
  },
  "language_info": {
   "codemirror_mode": {
    "name": "ipython",
    "version": 3
   },
   "file_extension": ".py",
   "mimetype": "text/x-python",
   "name": "python",
   "nbconvert_exporter": "python",
   "pygments_lexer": "ipython3",
   "version": "3.10.8"
  }
 },
 "nbformat": 4,
 "nbformat_minor": 5
}
